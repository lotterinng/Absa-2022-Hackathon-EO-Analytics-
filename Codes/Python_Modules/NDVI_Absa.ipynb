{
 "cells": [
  {
   "cell_type": "code",
   "execution_count": 1,
   "id": "f066ba41",
   "metadata": {},
   "outputs": [],
   "source": [
    "import ee\n",
    "import geemap"
   ]
  },
  {
   "cell_type": "code",
   "execution_count": 2,
   "id": "d1cd26fe",
   "metadata": {},
   "outputs": [
    {
     "data": {
      "text/html": [
       "<p>To authorize access needed by Earth Engine, open the following\n",
       "        URL in a web browser and follow the instructions:</p>\n",
       "        <p><a href=https://code.earthengine.google.com/client-auth?scopes=https%3A//www.googleapis.com/auth/earthengine%20https%3A//www.googleapis.com/auth/devstorage.full_control&request_id=vbxDt0o-6ulAqkJ_vvawyIIiZlIXjE5Az1iVHMRfud8&tc=dncSB05BPHrAxmK3Na2Vu0XCYiYh_hJXAOJqDncwgtA&cc=B1HTE5asN7qQA1aTnS2Yli9mxitEqCEycrclN4-QITI>https://code.earthengine.google.com/client-auth?scopes=https%3A//www.googleapis.com/auth/earthengine%20https%3A//www.googleapis.com/auth/devstorage.full_control&request_id=vbxDt0o-6ulAqkJ_vvawyIIiZlIXjE5Az1iVHMRfud8&tc=dncSB05BPHrAxmK3Na2Vu0XCYiYh_hJXAOJqDncwgtA&cc=B1HTE5asN7qQA1aTnS2Yli9mxitEqCEycrclN4-QITI</a></p>\n",
       "        <p>The authorization workflow will generate a code, which you\n",
       "        should paste in the box below</p>\n",
       "        "
      ],
      "text/plain": [
       "<IPython.core.display.HTML object>"
      ]
     },
     "metadata": {},
     "output_type": "display_data"
    },
    {
     "name": "stdout",
     "output_type": "stream",
     "text": [
      "Enter verification code: 4/1ARtbsJptcLkzYLlL1SaxU-wy5GGE-9NrcRRZrtwnr5Eu-LwdLZZEqTpogr8\n",
      "\n",
      "Successfully saved authorization token.\n"
     ]
    },
    {
     "data": {
      "application/vnd.jupyter.widget-view+json": {
       "model_id": "06561a9f226c41f68407b1d202808a29",
       "version_major": 2,
       "version_minor": 0
      },
      "text/plain": [
       "Map(center=[40, -100], controls=(WidgetControl(options=['position', 'transparent_bg'], widget=HBox(children=(T…"
      ]
     },
     "metadata": {},
     "output_type": "display_data"
    }
   ],
   "source": [
    "Map = geemap.Map(center=[40,-100], zoom=4)\n",
    "Map"
   ]
  },
  {
   "cell_type": "code",
   "execution_count": 3,
   "id": "f787e716",
   "metadata": {},
   "outputs": [],
   "source": [
    "# Add Earth Engine dataset\n",
    "# This function gets NDVI from Landsat 8,9 imagery.\n",
    "\n",
    "\n",
    "def getNDVI(image):\n",
    "    return image.normalizedDifference(['B4', 'B3'])\n",
    "\n",
    "\n",
    "# Load two Landsat 8,9 images.\n",
    "image1 = ee.Image('LANDSAT/LT05/C01/T1_SR/LT05_172077_19860525')\n",
    "image2 = ee.Image('LANDSAT/LC08/C01/T1_SR/LC08_172077_20140114')\n",
    "\n",
    "# Compute NDVI from the scenes.\n",
    "ndvi1 = getNDVI(image1)\n",
    "ndvi2 = getNDVI(image2)\n",
    "\n",
    "# Compute the difference in NDVI.\n",
    "ndviDifference = ndvi2.subtract(ndvi1)\n",
    "# Load the land mask from the SRTM DEM.\n",
    "landMask = ee.Image('projects/ee-kkgwasiwa/assets/c2019Bokaa_Variance4_Clip1').mask()\n",
    "\n",
    "# Update the NDVI difference mask with the land mask.\n",
    "maskedDifference = ndviDifference.updateMask(landMask)\n",
    "\n",
    "# Display the masked result.\n",
    "vizParams = {'min': -0.5, 'max': 0.5,\n",
    "             'palette': ['#FF0000', '#FF8000', '#FFFF00', '#00FF00', '#00FFFF', '#0000FF']}\n",
    "Map.setCenter(25.9322, -24.3913, 9)\n",
    "Map.addLayer(maskedDifference, vizParams, 'NDVI difference')"
   ]
  },
  {
   "cell_type": "code",
   "execution_count": 4,
   "id": "364b334f",
   "metadata": {
    "scrolled": true
   },
   "outputs": [
    {
     "data": {
      "application/vnd.jupyter.widget-view+json": {
       "model_id": "06561a9f226c41f68407b1d202808a29",
       "version_major": 2,
       "version_minor": 0
      },
      "text/plain": [
       "Map(center=[-24.3913, 25.9322], controls=(WidgetControl(options=['position', 'transparent_bg'], widget=HBox(ch…"
      ]
     },
     "metadata": {},
     "output_type": "display_data"
    }
   ],
   "source": [
    "Map.addLayerControl() # This line is not needed for ipyleaflet-based Map.\n",
    "Map"
   ]
  },
  {
   "cell_type": "code",
   "execution_count": null,
   "id": "3a7b53d5",
   "metadata": {},
   "outputs": [],
   "source": []
  }
 ],
 "metadata": {
  "kernelspec": {
   "display_name": "Python 3",
   "language": "python",
   "name": "python3"
  },
  "language_info": {
   "codemirror_mode": {
    "name": "ipython",
    "version": 3
   },
   "file_extension": ".py",
   "mimetype": "text/x-python",
   "name": "python",
   "nbconvert_exporter": "python",
   "pygments_lexer": "ipython3",
   "version": "3.8.8"
  }
 },
 "nbformat": 4,
 "nbformat_minor": 5
}
